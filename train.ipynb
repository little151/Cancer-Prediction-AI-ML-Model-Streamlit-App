{
 "cells": [
  {
   "cell_type": "code",
   "execution_count": 2,
   "metadata": {},
   "outputs": [
    {
     "name": "stderr",
     "output_type": "stream",
     "text": [
      "c:\\Users\\ACER\\AppData\\Local\\Programs\\Python\\Python311\\Lib\\site-packages\\keras\\src\\layers\\convolutional\\base_conv.py:107: UserWarning: Do not pass an `input_shape`/`input_dim` argument to a layer. When using Sequential models, prefer using an `Input(shape)` object as the first layer in the model instead.\n",
      "  super().__init__(activity_regularizer=activity_regularizer, **kwargs)\n"
     ]
    },
    {
     "name": "stdout",
     "output_type": "stream",
     "text": [
      "Epoch 1/10\n",
      "\u001b[1m158/158\u001b[0m \u001b[32m━━━━━━━━━━━━━━━━━━━━\u001b[0m\u001b[37m\u001b[0m \u001b[1m8s\u001b[0m 36ms/step - accuracy: 0.4030 - loss: 1.0734 - val_accuracy: 0.5164 - val_loss: 0.8688\n",
      "Epoch 2/10\n",
      "\u001b[1m158/158\u001b[0m \u001b[32m━━━━━━━━━━━━━━━━━━━━\u001b[0m\u001b[37m\u001b[0m \u001b[1m6s\u001b[0m 38ms/step - accuracy: 0.5599 - loss: 0.9139 - val_accuracy: 0.6291 - val_loss: 0.6631\n",
      "Epoch 3/10\n",
      "\u001b[1m158/158\u001b[0m \u001b[32m━━━━━━━━━━━━━━━━━━━━\u001b[0m\u001b[37m\u001b[0m \u001b[1m5s\u001b[0m 32ms/step - accuracy: 0.7326 - loss: 0.7150 - val_accuracy: 0.7491 - val_loss: 0.5441\n",
      "Epoch 4/10\n",
      "\u001b[1m158/158\u001b[0m \u001b[32m━━━━━━━━━━━━━━━━━━━━\u001b[0m\u001b[37m\u001b[0m \u001b[1m5s\u001b[0m 32ms/step - accuracy: 0.8351 - loss: 0.5060 - val_accuracy: 0.8800 - val_loss: 0.3496\n",
      "Epoch 5/10\n",
      "\u001b[1m158/158\u001b[0m \u001b[32m━━━━━━━━━━━━━━━━━━━━\u001b[0m\u001b[37m\u001b[0m \u001b[1m5s\u001b[0m 33ms/step - accuracy: 0.9644 - loss: 0.1240 - val_accuracy: 0.9418 - val_loss: 0.1564\n",
      "Epoch 6/10\n",
      "\u001b[1m158/158\u001b[0m \u001b[32m━━━━━━━━━━━━━━━━━━━━\u001b[0m\u001b[37m\u001b[0m \u001b[1m6s\u001b[0m 38ms/step - accuracy: 0.9907 - loss: 0.0357 - val_accuracy: 0.9673 - val_loss: 0.1124\n",
      "Epoch 7/10\n",
      "\u001b[1m158/158\u001b[0m \u001b[32m━━━━━━━━━━━━━━━━━━━━\u001b[0m\u001b[37m\u001b[0m \u001b[1m6s\u001b[0m 35ms/step - accuracy: 0.9881 - loss: 0.0343 - val_accuracy: 0.9855 - val_loss: 0.0604\n",
      "Epoch 8/10\n",
      "\u001b[1m158/158\u001b[0m \u001b[32m━━━━━━━━━━━━━━━━━━━━\u001b[0m\u001b[37m\u001b[0m \u001b[1m6s\u001b[0m 35ms/step - accuracy: 0.9976 - loss: 0.0150 - val_accuracy: 0.9818 - val_loss: 0.0805\n",
      "Epoch 9/10\n",
      "\u001b[1m158/158\u001b[0m \u001b[32m━━━━━━━━━━━━━━━━━━━━\u001b[0m\u001b[37m\u001b[0m \u001b[1m5s\u001b[0m 34ms/step - accuracy: 0.9990 - loss: 0.0064 - val_accuracy: 0.9855 - val_loss: 0.0700\n",
      "Epoch 10/10\n",
      "\u001b[1m158/158\u001b[0m \u001b[32m━━━━━━━━━━━━━━━━━━━━\u001b[0m\u001b[37m\u001b[0m \u001b[1m5s\u001b[0m 32ms/step - accuracy: 0.9983 - loss: 0.0076 - val_accuracy: 0.9818 - val_loss: 0.0513\n"
     ]
    },
    {
     "name": "stderr",
     "output_type": "stream",
     "text": [
      "WARNING:absl:You are saving your model as an HDF5 file via `model.save()` or `keras.saving.save_model(model)`. This file format is considered legacy. We recommend using instead the native Keras format, e.g. `model.save('my_model.keras')` or `keras.saving.save_model(model, 'my_model.keras')`. \n"
     ]
    },
    {
     "name": "stdout",
     "output_type": "stream",
     "text": [
      "Train Accuracy: 99.64%, Test Accuracy: 98.18%\n"
     ]
    }
   ],
   "source": [
    "import numpy as np \n",
    "import os\n",
    "import cv2\n",
    "import random\n",
    "from collections import Counter\n",
    "from sklearn.model_selection import train_test_split\n",
    "from imblearn.over_sampling import SMOTE\n",
    "from tensorflow.keras.models import Sequential\n",
    "from tensorflow.keras.layers import Conv2D, MaxPooling2D, Flatten, Dense\n",
    "\n",
    "# Function to load and preprocess image data with resized images\n",
    "def load_and_preprocess_data(directory, categories, img_size):\n",
    "    data = []\n",
    "    for category in categories:\n",
    "        path = os.path.join(directory, category)\n",
    "        class_num = categories.index(category)\n",
    "        for file in os.listdir(path):\n",
    "            filepath = os.path.join(path, file)\n",
    "            img = cv2.imread(filepath, 0)\n",
    "            img = cv2.resize(img, (img_size, img_size))  # Resize image\n",
    "            data.append([img, class_num])\n",
    "    random.shuffle(data)\n",
    "    X, y = [], []\n",
    "    for feature, label in data:\n",
    "        X.append(feature)\n",
    "        y.append(label)\n",
    "    X = np.array(X).reshape(-1, img_size, img_size, 1)\n",
    "    X = X / 255.0\n",
    "    y = np.array(y)\n",
    "    return X, y\n",
    "\n",
    "# Define directory containing the image dataset\n",
    "directory = r'C:\\Users\\ACER\\OneDrive\\Desktop\\cancer\\archive\\The IQ-OTHNCCD lung cancer dataset\\The IQ-OTHNCCD lung cancer dataset'\n",
    "\n",
    "# Define categories\n",
    "categories = ['Bengin cases', 'Malignant cases', 'Normal cases']\n",
    "\n",
    "# Load and preprocess the data with resized images (e.g., resize images to 64x64)\n",
    "img_size = 64\n",
    "X, y = load_and_preprocess_data(directory, categories, img_size)\n",
    "\n",
    "# Split the data into training and validation sets\n",
    "X_train, X_valid, y_train, y_valid = train_test_split(X, y, random_state=10, stratify=y)\n",
    "\n",
    "# Apply SMOTE to address class imbalance\n",
    "smote = SMOTE()\n",
    "X_train_sampled, y_train_sampled = smote.fit_resample(X_train.reshape(-1, img_size*img_size*1), y_train)\n",
    "\n",
    "# Reshape the data\n",
    "X_train = X_train.reshape(X_train.shape[0], img_size, img_size, 1)\n",
    "X_valid = X_valid.reshape(X_valid.shape[0], img_size, img_size, 1)\n",
    "X_train_sampled = X_train_sampled.reshape(X_train_sampled.shape[0], img_size, img_size, 1)\n",
    "\n",
    "# Define the model architecture\n",
    "model = Sequential()\n",
    "model.add(Conv2D(64, (3, 3), input_shape=X_train.shape[1:], activation='relu'))\n",
    "model.add(MaxPooling2D(pool_size=(2, 2)))\n",
    "model.add(Conv2D(64, (3, 3), activation='relu'))\n",
    "model.add(MaxPooling2D(pool_size=(2, 2)))\n",
    "model.add(Flatten())\n",
    "model.add(Dense(16, activation='relu'))\n",
    "model.add(Dense(3, activation='softmax'))\n",
    "\n",
    "# Compile the model\n",
    "model.compile(loss='sparse_categorical_crossentropy', optimizer='adam', metrics=['accuracy'])\n",
    "\n",
    "# Train the model\n",
    "history = model.fit(X_train_sampled, y_train_sampled, batch_size=8, epochs=10, validation_data=(X_valid, y_valid))\n",
    "\n",
    "# Evaluate the model\n",
    "_, train_accuracy = model.evaluate(X_train, y_train, verbose=0)\n",
    "_, test_accuracy = model.evaluate(X_valid, y_valid, verbose=0)\n",
    "print('Train Accuracy: %.2f%%, Test Accuracy: %.2f%%' % (train_accuracy*100, test_accuracy*100))\n",
    "\n",
    "# Save the trained model to a file\n",
    "model.save(\"trained_model.h5\")\n"
   ]
  },
  {
   "cell_type": "code",
   "execution_count": null,
   "metadata": {},
   "outputs": [],
   "source": []
  }
 ],
 "metadata": {
  "kernelspec": {
   "display_name": "Python 3",
   "language": "python",
   "name": "python3"
  },
  "language_info": {
   "codemirror_mode": {
    "name": "ipython",
    "version": 3
   },
   "file_extension": ".py",
   "mimetype": "text/x-python",
   "name": "python",
   "nbconvert_exporter": "python",
   "pygments_lexer": "ipython3",
   "version": "3.11.1"
  }
 },
 "nbformat": 4,
 "nbformat_minor": 2
}
